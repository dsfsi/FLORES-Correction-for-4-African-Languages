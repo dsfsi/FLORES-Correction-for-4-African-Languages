{
 "cells": [
  {
   "cell_type": "code",
   "execution_count": 1,
   "metadata": {},
   "outputs": [
    {
     "name": "stdout",
     "output_type": "stream",
     "text": [
      "/Users/abumafrim/Documents/GitHub/FLORES-Correction-for-4-African-Languages/scripts\n"
     ]
    }
   ],
   "source": [
    "%cd /Users/abumafrim/Documents/GitHub/FLORES-Correction-for-4-African-Languages/scripts"
   ]
  },
  {
   "cell_type": "code",
   "execution_count": 1,
   "metadata": {},
   "outputs": [
    {
     "name": "stdout",
     "output_type": "stream",
     "text": [
      "Traceback (most recent call last):\n",
      "  File \"/Users/abumafrim/Documents/GitHub/FLORES-Correction-for-4-African-Languages/scripts/compute_metrics.py\", line 5, in <module>\n",
      "    from comet import load_from_checkpoint\n",
      "ModuleNotFoundError: No module named 'comet'\n"
     ]
    }
   ],
   "source": [
    "!python compute_metrics.py -l zul -s devtest"
   ]
  }
 ],
 "metadata": {
  "kernelspec": {
   "display_name": "Python 3",
   "language": "python",
   "name": "python3"
  },
  "language_info": {
   "codemirror_mode": {
    "name": "ipython",
    "version": 3
   },
   "file_extension": ".py",
   "mimetype": "text/x-python",
   "name": "python",
   "nbconvert_exporter": "python",
   "pygments_lexer": "ipython3",
   "version": "3.9.17"
  }
 },
 "nbformat": 4,
 "nbformat_minor": 2
}
